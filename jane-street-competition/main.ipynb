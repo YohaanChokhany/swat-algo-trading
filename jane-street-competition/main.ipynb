{
 "cells": [
  {
   "cell_type": "code",
   "execution_count": 1,
   "metadata": {},
   "outputs": [],
   "source": [
    "import math\n",
    "import torch\n",
    "from utils import *\n",
    "import torch.nn.functional as F\n",
    "import matplotlib.pyplot as plt\n",
    "import pandas as pd\n",
    "import numpy as np\n",
    "\n",
    "from sklearn.ensemble import RandomForestRegressor\n",
    "from sklearn.impute import SimpleImputer\n",
    "from sklearn.pipeline import Pipeline\n",
    "from sklearn.metrics import mean_squared_error\n",
    "\n",
    "import joblib"
   ]
  },
  {
   "cell_type": "code",
   "execution_count": 2,
   "metadata": {},
   "outputs": [
    {
     "data": {
      "text/html": [
       "<div>\n",
       "<style scoped>\n",
       "    .dataframe tbody tr th:only-of-type {\n",
       "        vertical-align: middle;\n",
       "    }\n",
       "\n",
       "    .dataframe tbody tr th {\n",
       "        vertical-align: top;\n",
       "    }\n",
       "\n",
       "    .dataframe thead th {\n",
       "        text-align: right;\n",
       "    }\n",
       "</style>\n",
       "<table border=\"1\" class=\"dataframe\">\n",
       "  <thead>\n",
       "    <tr style=\"text-align: right;\">\n",
       "      <th></th>\n",
       "      <th>date_id</th>\n",
       "      <th>time_id</th>\n",
       "      <th>symbol_id</th>\n",
       "      <th>weight</th>\n",
       "      <th>feature_00</th>\n",
       "      <th>feature_01</th>\n",
       "      <th>feature_02</th>\n",
       "      <th>feature_03</th>\n",
       "      <th>feature_04</th>\n",
       "      <th>feature_05</th>\n",
       "      <th>...</th>\n",
       "      <th>feature_78</th>\n",
       "      <th>responder_0</th>\n",
       "      <th>responder_1</th>\n",
       "      <th>responder_2</th>\n",
       "      <th>responder_3</th>\n",
       "      <th>responder_4</th>\n",
       "      <th>responder_5</th>\n",
       "      <th>responder_6</th>\n",
       "      <th>responder_7</th>\n",
       "      <th>responder_8</th>\n",
       "    </tr>\n",
       "  </thead>\n",
       "  <tbody>\n",
       "    <tr>\n",
       "      <th>0</th>\n",
       "      <td>0</td>\n",
       "      <td>0</td>\n",
       "      <td>1</td>\n",
       "      <td>3.889038</td>\n",
       "      <td>NaN</td>\n",
       "      <td>NaN</td>\n",
       "      <td>NaN</td>\n",
       "      <td>NaN</td>\n",
       "      <td>NaN</td>\n",
       "      <td>0.851033</td>\n",
       "      <td>...</td>\n",
       "      <td>-0.281498</td>\n",
       "      <td>0.738489</td>\n",
       "      <td>-0.069556</td>\n",
       "      <td>1.380875</td>\n",
       "      <td>2.005353</td>\n",
       "      <td>0.186018</td>\n",
       "      <td>1.218368</td>\n",
       "      <td>0.775981</td>\n",
       "      <td>0.346999</td>\n",
       "      <td>0.095504</td>\n",
       "    </tr>\n",
       "    <tr>\n",
       "      <th>1</th>\n",
       "      <td>0</td>\n",
       "      <td>0</td>\n",
       "      <td>7</td>\n",
       "      <td>1.370613</td>\n",
       "      <td>NaN</td>\n",
       "      <td>NaN</td>\n",
       "      <td>NaN</td>\n",
       "      <td>NaN</td>\n",
       "      <td>NaN</td>\n",
       "      <td>0.676961</td>\n",
       "      <td>...</td>\n",
       "      <td>-0.302441</td>\n",
       "      <td>2.965889</td>\n",
       "      <td>1.190077</td>\n",
       "      <td>-0.523998</td>\n",
       "      <td>3.849921</td>\n",
       "      <td>2.626981</td>\n",
       "      <td>5.000000</td>\n",
       "      <td>0.703665</td>\n",
       "      <td>0.216683</td>\n",
       "      <td>0.778639</td>\n",
       "    </tr>\n",
       "    <tr>\n",
       "      <th>2</th>\n",
       "      <td>0</td>\n",
       "      <td>0</td>\n",
       "      <td>9</td>\n",
       "      <td>2.285698</td>\n",
       "      <td>NaN</td>\n",
       "      <td>NaN</td>\n",
       "      <td>NaN</td>\n",
       "      <td>NaN</td>\n",
       "      <td>NaN</td>\n",
       "      <td>1.056285</td>\n",
       "      <td>...</td>\n",
       "      <td>-0.096792</td>\n",
       "      <td>-0.864488</td>\n",
       "      <td>-0.280303</td>\n",
       "      <td>-0.326697</td>\n",
       "      <td>0.375781</td>\n",
       "      <td>1.271291</td>\n",
       "      <td>0.099793</td>\n",
       "      <td>2.109352</td>\n",
       "      <td>0.670881</td>\n",
       "      <td>0.772828</td>\n",
       "    </tr>\n",
       "    <tr>\n",
       "      <th>3</th>\n",
       "      <td>0</td>\n",
       "      <td>0</td>\n",
       "      <td>10</td>\n",
       "      <td>0.690606</td>\n",
       "      <td>NaN</td>\n",
       "      <td>NaN</td>\n",
       "      <td>NaN</td>\n",
       "      <td>NaN</td>\n",
       "      <td>NaN</td>\n",
       "      <td>1.139366</td>\n",
       "      <td>...</td>\n",
       "      <td>-0.296244</td>\n",
       "      <td>0.408499</td>\n",
       "      <td>0.223992</td>\n",
       "      <td>2.294888</td>\n",
       "      <td>1.097444</td>\n",
       "      <td>1.225872</td>\n",
       "      <td>1.225376</td>\n",
       "      <td>1.114137</td>\n",
       "      <td>0.775199</td>\n",
       "      <td>-1.379516</td>\n",
       "    </tr>\n",
       "    <tr>\n",
       "      <th>4</th>\n",
       "      <td>0</td>\n",
       "      <td>0</td>\n",
       "      <td>14</td>\n",
       "      <td>0.440570</td>\n",
       "      <td>NaN</td>\n",
       "      <td>NaN</td>\n",
       "      <td>NaN</td>\n",
       "      <td>NaN</td>\n",
       "      <td>NaN</td>\n",
       "      <td>0.955200</td>\n",
       "      <td>...</td>\n",
       "      <td>3.418133</td>\n",
       "      <td>-0.373387</td>\n",
       "      <td>-0.502764</td>\n",
       "      <td>-0.348021</td>\n",
       "      <td>-3.928148</td>\n",
       "      <td>-1.591366</td>\n",
       "      <td>-5.000000</td>\n",
       "      <td>-3.572820</td>\n",
       "      <td>-1.089123</td>\n",
       "      <td>-5.000000</td>\n",
       "    </tr>\n",
       "  </tbody>\n",
       "</table>\n",
       "<p>5 rows × 92 columns</p>\n",
       "</div>"
      ],
      "text/plain": [
       "   date_id  time_id  symbol_id    weight  feature_00  feature_01  feature_02  \\\n",
       "0        0        0          1  3.889038         NaN         NaN         NaN   \n",
       "1        0        0          7  1.370613         NaN         NaN         NaN   \n",
       "2        0        0          9  2.285698         NaN         NaN         NaN   \n",
       "3        0        0         10  0.690606         NaN         NaN         NaN   \n",
       "4        0        0         14  0.440570         NaN         NaN         NaN   \n",
       "\n",
       "   feature_03  feature_04  feature_05  ...  feature_78  responder_0  \\\n",
       "0         NaN         NaN    0.851033  ...   -0.281498     0.738489   \n",
       "1         NaN         NaN    0.676961  ...   -0.302441     2.965889   \n",
       "2         NaN         NaN    1.056285  ...   -0.096792    -0.864488   \n",
       "3         NaN         NaN    1.139366  ...   -0.296244     0.408499   \n",
       "4         NaN         NaN    0.955200  ...    3.418133    -0.373387   \n",
       "\n",
       "   responder_1  responder_2  responder_3  responder_4  responder_5  \\\n",
       "0    -0.069556     1.380875     2.005353     0.186018     1.218368   \n",
       "1     1.190077    -0.523998     3.849921     2.626981     5.000000   \n",
       "2    -0.280303    -0.326697     0.375781     1.271291     0.099793   \n",
       "3     0.223992     2.294888     1.097444     1.225872     1.225376   \n",
       "4    -0.502764    -0.348021    -3.928148    -1.591366    -5.000000   \n",
       "\n",
       "   responder_6  responder_7  responder_8  \n",
       "0     0.775981     0.346999     0.095504  \n",
       "1     0.703665     0.216683     0.778639  \n",
       "2     2.109352     0.670881     0.772828  \n",
       "3     1.114137     0.775199    -1.379516  \n",
       "4    -3.572820    -1.089123    -5.000000  \n",
       "\n",
       "[5 rows x 92 columns]"
      ]
     },
     "execution_count": 2,
     "metadata": {},
     "output_type": "execute_result"
    }
   ],
   "source": [
    "df = fetch_data()\n",
    "df.head()"
   ]
  },
  {
   "cell_type": "code",
   "execution_count": 3,
   "metadata": {},
   "outputs": [
    {
     "data": {
      "text/plain": [
       "(1944210, 92)"
      ]
     },
     "execution_count": 3,
     "metadata": {},
     "output_type": "execute_result"
    }
   ],
   "source": [
    "df.shape"
   ]
  },
  {
   "cell_type": "markdown",
   "metadata": {},
   "source": [
    "### __Random Forest Regressor__"
   ]
  },
  {
   "cell_type": "code",
   "execution_count": 12,
   "metadata": {},
   "outputs": [],
   "source": [
    "X_train, y_train, X_val, y_val, X_test, y_test = split_dataset(df)"
   ]
  },
  {
   "cell_type": "code",
   "execution_count": 13,
   "metadata": {},
   "outputs": [],
   "source": [
    "X_train_small = X_train[:10000]\n",
    "y_train_small = y_train[:10000]"
   ]
  },
  {
   "cell_type": "code",
   "execution_count": 14,
   "metadata": {},
   "outputs": [
    {
     "name": "stdout",
     "output_type": "stream",
     "text": [
      "[Pipeline] ............. (step 1 of 1) Processing model, total= 2.4min\n"
     ]
    }
   ],
   "source": [
    "# trained on 1/100th of the data\n",
    "pipeline = Pipeline([\n",
    "    ('model', RandomForestRegressor())\n",
    "], verbose=1)\n",
    "\n",
    "pipeline.fit(X_train_small, y_train_small[\"responder_6\"]);"
   ]
  },
  {
   "cell_type": "code",
   "execution_count": 15,
   "metadata": {},
   "outputs": [
    {
     "data": {
      "text/plain": [
       "['models/pipeline.pkl']"
      ]
     },
     "execution_count": 15,
     "metadata": {},
     "output_type": "execute_result"
    }
   ],
   "source": [
    "joblib.dump(pipeline, \"models/pipeline.pkl\")"
   ]
  },
  {
   "cell_type": "code",
   "execution_count": 16,
   "metadata": {},
   "outputs": [],
   "source": [
    "# run this cell to load model from file\n",
    "pipeline = joblib.load(\"models/pipeline.pkl\")"
   ]
  },
  {
   "cell_type": "code",
   "execution_count": null,
   "metadata": {},
   "outputs": [
    {
     "name": "stdout",
     "output_type": "stream",
     "text": [
      "R^2 Loss: 0.9992724208142942\n"
     ]
    }
   ],
   "source": [
    "y_pred = pipeline.predict(X_test)\n",
    "\n",
    "weights = torch.tensor(y_test['weight'].values)\n",
    "y_true = torch.tensor(y_test['responder_6'].values)\n",
    "y_pred = torch.tensor(y_pred)\n",
    "numerator = torch.sum(weights * (y_true - y_pred) ** 2)\n",
    "denominator = torch.sum(weights * y_true ** 2)\n",
    "r2 = (numerator / denominator)\n",
    "print(f'R^2 Loss: {r2.item()}')"
   ]
  },
  {
   "cell_type": "markdown",
   "metadata": {},
   "source": [
    "### __MLP (Multi Layer Perceptron)__\n",
    "- `Context`: `5` __time steps__\n",
    "\n",
    "- `Input`: `79` __features__ $\\times$ `5` __time steps__ = `395` __features__\n",
    "- `Output`: __Responder 6__\n",
    "- `Model`: `3` __hidden layers__ with `256`, `128`, `64` __neurons__\n",
    "- `Activation`: __TanH__\n",
    "- `Loss`: __Weighted Zero-Mean R-squared Score ($R^2$)__\n",
    "\n",
    "$$\n",
    "  R^2 = 1 - \\frac{\\sum w_i (y_i - \\hat{y}_i)^2}{\\sum w_i y_i^2}\n",
    "$$\n",
    "\n"
   ]
  },
  {
   "cell_type": "code",
   "execution_count": 4,
   "metadata": {},
   "outputs": [
    {
     "data": {
      "text/plain": [
       "torch.Size([1749789, 396])"
      ]
     },
     "execution_count": 4,
     "metadata": {},
     "output_type": "execute_result"
    }
   ],
   "source": [
    "context = 5\n",
    "X_train, y_train, X_val, y_val, X_test, y_test = split_dataset(df, context=context)\n",
    "x = torch.tensor(np.concatenate([X_train.drop(columns=['date_id', 'time_id', 'symbol_id']).values, y_train[\"weight\"].values.reshape(-1, 1)], axis=1), dtype=torch.float32)\n",
    "x.shape"
   ]
  },
  {
   "cell_type": "code",
   "execution_count": null,
   "metadata": {},
   "outputs": [
    {
     "data": {
      "text/plain": [
       "torch.Size([1749789, 396])"
      ]
     },
     "execution_count": 16,
     "metadata": {},
     "output_type": "execute_result"
    }
   ],
   "source": []
  },
  {
   "cell_type": "code",
   "execution_count": 20,
   "metadata": {},
   "outputs": [
    {
     "name": "stdout",
     "output_type": "stream",
     "text": [
      "1421569\n"
     ]
    }
   ],
   "source": [
    "layers = [\n",
    "    Linear(79 * context + 1, 256), BatchNorm1d(256), Tanh(),\n",
    "    Linear(             256, 512), BatchNorm1d(512), Tanh(),\n",
    "    Linear(             512, 512), BatchNorm1d(512), Tanh(),\n",
    "    Linear(             512, 512), BatchNorm1d(512), Tanh(),\n",
    "    Linear(             512, 512), BatchNorm1d(512), Tanh(),\n",
    "    Linear(             512, 512), BatchNorm1d(512), Tanh(),\n",
    "    Linear(             512, 256), BatchNorm1d(256), Tanh(),\n",
    "    Linear(             256,   1)\n",
    "]\n",
    "\n",
    "with torch.no_grad():\n",
    "    layers[0].weight *= 0.02\n",
    "    for layer in layers[:-1]:\n",
    "        if isinstance(layer, Linear):\n",
    "            layer.weight *= 5/3\n",
    "\n",
    "parameters = [param for layer in layers for param in layer.parameters()]\n",
    "print(sum(p.nelement() for p in parameters))\n",
    "for p in parameters:\n",
    "    p.requires_grad = True"
   ]
  },
  {
   "cell_type": "code",
   "execution_count": 21,
   "metadata": {},
   "outputs": [],
   "source": [
    "lossi = []\n",
    "lri = []\n",
    "lrs = [1e-3, 1e-3, 1e-3, 1e-4, 1e-4, 1e-4, 1e-5, 1e-5, 1e-5, 1e-6, 1e-6, 1e-6]"
   ]
  },
  {
   "cell_type": "code",
   "execution_count": 22,
   "metadata": {},
   "outputs": [
    {
     "name": "stdout",
     "output_type": "stream",
     "text": [
      "Step 120000 of 120000 - R^2 Loss: 0.9963229894638062\r"
     ]
    }
   ],
   "source": [
    "max_steps = len(lrs) * 10000\n",
    "batch_size = 64\n",
    "\n",
    "for i in range(max_steps):\n",
    "    ix = torch.randint(0, x.shape[0], (batch_size,))\n",
    "    Xb, yb, yw = x[ix], torch.tensor(y_train['responder_6'].values)[ix], torch.tensor(y_train['weight'].values)[ix]\n",
    "\n",
    "    for layer in layers:\n",
    "        Xb = layer(Xb)\n",
    "    \n",
    "    Xb = Xb.squeeze()\n",
    "    loss = (torch.sum(yw * (yb - Xb) ** 2) / torch.sum(yw * yb ** 2))\n",
    "\n",
    "    for layer in layers:\n",
    "        layer.out.retain_grad()\n",
    "    for p in parameters:\n",
    "        p.grad = None\n",
    "    loss.backward()\n",
    "\n",
    "    lr = lrs[i // 10000]\n",
    "    for p in parameters:\n",
    "        p.data -= lr * p.grad\n",
    "\n",
    "    lossi.append(loss.item())\n",
    "    lri.append(lr)\n",
    "    print(f'Step {len(lri):6d} of {max_steps} - R^2 Loss: {loss.item()}', end=\"\\r\")"
   ]
  },
  {
   "cell_type": "code",
   "execution_count": 25,
   "metadata": {},
   "outputs": [
    {
     "name": "stdout",
     "output_type": "stream",
     "text": [
      "Test Loss: 0.01912236\n"
     ]
    }
   ],
   "source": [
    "X_loss_calc = X_test\n",
    "y_loss_calc = y_test\n",
    "\n",
    "val_input = torch.tensor(np.concatenate([X_loss_calc.drop(columns=['date_id', 'time_id', 'symbol_id']).values, y_loss_calc[\"weight\"].values.reshape(-1, 1)], axis=1), dtype=torch.float32)\n",
    "\n",
    "for layer in layers:\n",
    "    val_input = layer(val_input)\n",
    "\n",
    "\n",
    "print(f\"Test Loss: {r2_loss(y_loss_calc, val_input):.8f}\")"
   ]
  },
  {
   "cell_type": "code",
   "execution_count": 16,
   "metadata": {},
   "outputs": [
    {
     "data": {
      "image/png": "[encoded data removed]",
      "text/plain": [
       "<Figure size 640x480 with 2 Axes>"
      ]
     },
     "metadata": {},
     "output_type": "display_data"
    }
   ],
   "source": [
    "plt.plot(lossi)\n",
    "alt = plt.twinx()\n",
    "alt.plot(lri, color='red')\n",
    "alt.set_yscale('log')"
   ]
  }
 ],
 "metadata": {
  "kernelspec": {
   "display_name": "base",
   "language": "python",
   "name": "python3"
  },
  "language_info": {
   "codemirror_mode": {
    "name": "ipython",
    "version": 3
   },
   "file_extension": ".py",
   "mimetype": "text/x-python",
   "name": "python",
   "nbconvert_exporter": "python",
   "pygments_lexer": "ipython3",
   "version": "3.10.14"
  }
 },
 "nbformat": 4,
 "nbformat_minor": 2
}

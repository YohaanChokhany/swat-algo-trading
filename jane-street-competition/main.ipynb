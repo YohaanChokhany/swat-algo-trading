{
 "cells": [
  {
   "cell_type": "code",
   "execution_count": 2,
   "metadata": {},
   "outputs": [],
   "source": [
    "import math\n",
    "import torch\n",
    "from utils import *\n",
    "import torch.nn.functional as F\n",
    "import matplotlib.pyplot as plt\n",
    "import pandas as pd\n",
    "import numpy as np\n",
    "\n",
    "from sklearn.ensemble import RandomForestRegressor\n",
    "from sklearn.impute import SimpleImputer\n",
    "from sklearn.pipeline import Pipeline\n",
    "from sklearn.metrics import mean_squared_error\n",
    "\n",
    "import joblib"
   ]
  },
  {
   "cell_type": "code",
   "execution_count": 3,
   "metadata": {},
   "outputs": [],
   "source": [
    "df = fetch_data()"
   ]
  },
  {
   "cell_type": "markdown",
   "metadata": {},
   "source": [
    "### __Random Forest Regressor__"
   ]
  },
  {
   "cell_type": "code",
   "execution_count": 12,
   "metadata": {},
   "outputs": [],
   "source": [
    "X_train, y_train, X_val, y_val, X_test, y_test = split_dataset(df)"
   ]
  },
  {
   "cell_type": "code",
   "execution_count": 13,
   "metadata": {},
   "outputs": [],
   "source": [
    "X_train_small = X_train[:10000]\n",
    "y_train_small = y_train[:10000]"
   ]
  },
  {
   "cell_type": "code",
   "execution_count": 14,
   "metadata": {},
   "outputs": [
    {
     "name": "stdout",
     "output_type": "stream",
     "text": [
      "[Pipeline] ............. (step 1 of 1) Processing model, total= 2.4min\n"
     ]
    }
   ],
   "source": [
    "# trained on 1/100th of the data\n",
    "pipeline = Pipeline([\n",
    "    ('model', RandomForestRegressor())\n",
    "], verbose=1)\n",
    "\n",
    "pipeline.fit(X_train_small, y_train_small[\"responder_6\"]);"
   ]
  },
  {
   "cell_type": "code",
   "execution_count": 15,
   "metadata": {},
   "outputs": [
    {
     "data": {
      "text/plain": [
       "['models/pipeline.pkl']"
      ]
     },
     "execution_count": 15,
     "metadata": {},
     "output_type": "execute_result"
    }
   ],
   "source": [
    "joblib.dump(pipeline, \"models/pipeline.pkl\")"
   ]
  },
  {
   "cell_type": "code",
   "execution_count": 16,
   "metadata": {},
   "outputs": [],
   "source": [
    "# run this cell to load model from file\n",
    "pipeline = joblib.load(\"models/pipeline.pkl\")"
   ]
  },
  {
   "cell_type": "code",
   "execution_count": 17,
   "metadata": {},
   "outputs": [
    {
     "name": "stdout",
     "output_type": "stream",
     "text": [
      "R^2 Loss: 0.9992724208142942\n"
     ]
    }
   ],
   "source": [
    "y_pred = pipeline.predict(X_test)\n",
    "\n",
    "weights = torch.tensor(y_test['weight'].values)\n",
    "y_true = torch.tensor(y_test['responder_6'].values)\n",
    "y_pred = torch.tensor(y_pred)\n",
    "numerator = torch.sum(weights * (y_true - y_pred) ** 2)\n",
    "denominator = torch.sum(weights * y_true ** 2)\n",
    "r2 = (numerator / denominator)\n",
    "print(f'R^2 Loss: {r2.item()}')"
   ]
  },
  {
   "cell_type": "markdown",
   "metadata": {},
   "source": [
    "### __MLP (Multi Layer Perceptron)__\n",
    "- `Context`: `5` __time steps__\n",
    "\n",
    "- `Input`: `79` __features__ $\\times$ `5` __time steps__ = `395` __features__\n",
    "- `Output`: __Responder 6__\n",
    "- `Model`: `3` __hidden layers__ with `256`, `128`, `64` __neurons__\n",
    "- `Activation`: __ReLU__\n",
    "- `Regularization`: __L2__\n",
    "- `Optimizer`: __Adam__\n",
    "- `Loss`: __Weighted Zero-Mean R-squared Score ($R^2$)__\n",
    "\n",
    "$$\n",
    "  R^2 = 1 - \\frac{\\sum w_i (y_i - \\hat{y}_i)^2}{\\sum w_i y_i^2}\n",
    "$$\n",
    "\n"
   ]
  },
  {
   "cell_type": "code",
   "execution_count": 4,
   "metadata": {},
   "outputs": [],
   "source": [
    "context = 5\n",
    "X_train, y_train, X_val, y_val, X_test, y_test = split_dataset(df, context=context)"
   ]
  },
  {
   "cell_type": "code",
   "execution_count": 5,
   "metadata": {},
   "outputs": [
    {
     "data": {
      "text/plain": [
       "(1749789, 398)"
      ]
     },
     "execution_count": 5,
     "metadata": {},
     "output_type": "execute_result"
    }
   ],
   "source": [
    "X_train.shape"
   ]
  },
  {
   "cell_type": "code",
   "execution_count": 6,
   "metadata": {},
   "outputs": [],
   "source": [
    "input = torch.tensor(X_train.drop(columns=['date_id', 'time_id', 'symbol_id']).values, dtype=torch.float32)\n",
    "W1 = torch.randn((79 * context, 256))\n",
    "b1 = torch.randn(256)\n",
    "W2 = torch.randn((256, 128))\n",
    "b2 = torch.randn(128)\n",
    "W3 = torch.randn((128, 64))\n",
    "b3 = torch.randn(64)\n",
    "W4 = torch.randn((64, 1))\n",
    "b4 = torch.randn(1)\n",
    "\n",
    "parameters = [W1, b1, W2, b2, W3, b3, W4, b4]"
   ]
  },
  {
   "cell_type": "code",
   "execution_count": 7,
   "metadata": {},
   "outputs": [],
   "source": [
    "for p in parameters:\n",
    "    p.requires_grad = True"
   ]
  },
  {
   "cell_type": "code",
   "execution_count": 8,
   "metadata": {},
   "outputs": [
    {
     "data": {
      "text/plain": [
       "142593"
      ]
     },
     "execution_count": 8,
     "metadata": {},
     "output_type": "execute_result"
    }
   ],
   "source": [
    "sum(p.nelement() for p in parameters)"
   ]
  },
  {
   "cell_type": "code",
   "execution_count": 9,
   "metadata": {},
   "outputs": [],
   "source": [
    "lossi = []\n",
    "lri = []"
   ]
  },
  {
   "cell_type": "code",
   "execution_count": null,
   "metadata": {},
   "outputs": [
    {
     "name": "stdout",
     "output_type": "stream",
     "text": [
      "torch.Size([64, 1])\n",
      "torch.Size([64])\n",
      "Step 10000 of 100000000 - R^2 Loss: 0.9313350319862366\r"
     ]
    }
   ],
   "source": [
    "for i in range(10000):\n",
    "    ix = torch.randint(0, input.shape[0], (64,))\n",
    "\n",
    "    h1 = torch.tanh(input[ix] @ W1 + b1)\n",
    "    h2 = torch.tanh(h1 @ W2 + b2)\n",
    "    h3 = torch.tanh(h2 @ W3 + b3)\n",
    "    output = h3 @ W4 + b4\n",
    "\n",
    "    weights = torch.tensor(y_train['weight'].values)[ix]\n",
    "    y_true = torch.tensor(y_train['responder_6'].values)[ix]\n",
    "    output = output.squeeze()\n",
    "    numerator = torch.sum(weights * (y_true - output) ** 2)\n",
    "    denominator = torch.sum(weights * y_true ** 2)\n",
    "    r2_loss = (numerator / denominator)\n",
    "\n",
    "    for p in parameters:\n",
    "        p.grad = None\n",
    "    r2_loss.backward()\n",
    "\n",
    "    lr = 1e-3\n",
    "    for p in parameters:\n",
    "        p.data += -lr * p.grad\n",
    "\n",
    "    lossi.append(r2_loss.item())\n",
    "    lri.append(lr)\n",
    "\n",
    "    print(f'Step {i+1:5d} of {math.ceil(i+1 / 10000) * 10000} - R^2 Loss: {r2_loss.item()}', end=\"\\r\")"
   ]
  },
  {
   "cell_type": "code",
   "execution_count": 239,
   "metadata": {},
   "outputs": [
    {
     "data": {
      "image/png": "[encoded data removed]",
      "text/plain": [
       "<Figure size 640x480 with 2 Axes>"
      ]
     },
     "metadata": {},
     "output_type": "display_data"
    }
   ],
   "source": [
    "plt.plot(lossi)\n",
    "alt = plt.twinx()\n",
    "alt.plot(lri, color='red')\n",
    "alt.set_yscale('log')"
   ]
  }
 ],
 "metadata": {
  "kernelspec": {
   "display_name": "base",
   "language": "python",
   "name": "python3"
  },
  "language_info": {
   "codemirror_mode": {
    "name": "ipython",
    "version": 3
   },
   "file_extension": ".py",
   "mimetype": "text/x-python",
   "name": "python",
   "nbconvert_exporter": "python",
   "pygments_lexer": "ipython3",
   "version": "3.10.14"
  }
 },
 "nbformat": 4,
 "nbformat_minor": 2
}
